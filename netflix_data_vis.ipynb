{
 "cells": [
  {
   "cell_type": "markdown",
   "metadata": {},
   "source": [
    "# Introduction\n",
    "The data for this project is pulled from a Netflix dataset on Kaggle. Its purpose is to visualize which various Netflix data.\n",
    "\n",
    "## Importing the data\n",
    "Start by bringing in the CSV data into Python program. We then parse the data using the CSV package. Lastly we close the CSV file after we have read the information."
   ]
  },
  {
   "cell_type": "code",
   "execution_count": 1,
   "metadata": {},
   "outputs": [],
   "source": [
    "import matplotlib.pyplot as plt\n",
    "import csv\n",
    "from collections import Counter\n",
    "import numpy as np"
   ]
  },
  {
   "cell_type": "code",
   "execution_count": 2,
   "metadata": {},
   "outputs": [],
   "source": [
    "with open('data/netflix_titles.csv', 'r', encoding ='utf-8') as file:\n",
    "    netflix_data = csv.DictReader(file)\n",
    "    data_list = []\n",
    "\n",
    "    for row in netflix_data:\n",
    "        data_list.append(row)"
   ]
  },
  {
   "cell_type": "markdown",
   "metadata": {},
   "source": [
    "### Test to see if data is being read properly"
   ]
  },
  {
   "cell_type": "code",
   "execution_count": 3,
   "metadata": {},
   "outputs": [
    {
     "data": {
      "text/plain": [
       "{'show_id': '81145628',\n",
       " 'type': 'Movie',\n",
       " 'title': 'Norm of the North: King Sized Adventure',\n",
       " 'director': 'Richard Finn, Tim Maltby',\n",
       " 'cast': 'Alan Marriott, Andrew Toth, Brian Dobson, Cole Howard, Jennifer Cameron, Jonathan Holmes, Lee Tockar, Lisa Durupt, Maya Kay, Michael Dobson',\n",
       " 'country': 'United States, India, South Korea, China',\n",
       " 'date_added': 'September 9, 2019',\n",
       " 'release_year': '2019',\n",
       " 'rating': 'TV-PG',\n",
       " 'duration': '90 min',\n",
       " 'listed_in': 'Children & Family Movies, Comedies',\n",
       " 'description': 'Before planning an awesome wedding for his grandfather, a polar bear king must take back a stolen artifact from an evil archaeologist first.'}"
      ]
     },
     "execution_count": 3,
     "metadata": {},
     "output_type": "execute_result"
    }
   ],
   "source": [
    "data_list[0]"
   ]
  },
  {
   "cell_type": "markdown",
   "metadata": {},
   "source": [
    "# Create a bar graph of which countries produced the most content on Netflix\n",
    "Format the data to create a list of where each movie or show was produced. Then count the number of productions for each country."
   ]
  },
  {
   "cell_type": "code",
   "execution_count": 4,
   "metadata": {},
   "outputs": [
    {
     "name": "stdout",
     "output_type": "stream",
     "text": [
      "{'United States': 2609, 'India': 838, 'South Korea': 162, 'China': 120, 'United Kingdom': 601, 'Spain': 178, 'Bulgaria': 8, 'Canada': 318, 'Chile': 23, 'Denmark': 38, 'Sweden': 33, 'Netherlands': 37, 'Belgium': 66, 'France': 271, 'Uruguay': 9, 'United States,': 1, 'Thailand': 56, 'Pakistan': 23, 'Turkey': 87, 'Brazil': 66, 'Italy': 67, 'Indonesia': 52, 'Ireland': 33, 'Hong Kong': 97, 'Morocco': 6, 'Mexico': 129, 'Vietnam': 4, 'Argentina': 68, 'Nigeria': 36, 'Japan': 231, 'Germany': 151, 'Greece': 8, 'Norway': 21, 'Switzerland': 15, 'United Arab Emirates': 21, 'Lebanon': 9, 'Cambodia': 3, 'Russia': 21, 'Poland': 26, 'Israel': 26, 'Australia': 126, 'Portugal': 4, 'Egypt': 54, 'Taiwan': 75, 'Austria': 10, 'Czech Republic': 15, 'Senegal': 2, 'Soviet Union': 3, 'Peru': 9, 'Ukraine': 3, 'Malaysia': 21, 'South Africa': 30, 'Nepal': 2, 'Philippines': 47, 'Serbia': 5, 'Colombia': 36, 'Singapore': 30, 'Luxembourg': 7, 'West Germany': 5, 'Cayman Islands': 1, 'New Zealand': 23, 'Venezuela': 3, 'Jordan': 6, 'Saudi Arabia': 2, 'Iceland': 6, 'Poland,': 1, 'Malta': 2, 'Qatar': 6, 'United Kingdom,': 1, 'Iran': 4, 'Finland': 9, 'Iraq': 2, 'Liechtenstein': 1, 'Albania': 1, 'Slovakia': 1, 'Samoa': 1, 'Ghana': 2, 'Botswana': 1, 'Hungary': 5, 'Guatemala': 1, 'Malawi': 1, 'Paraguay': 1, 'Somalia': 1, 'Kenya': 1, 'Sudan': 1, 'Sri Lanka': 1, 'Dominican Republic': 2, 'Panama': 1, 'Romania': 6, 'Latvia': 1, 'Uganda': 1, 'Slovenia': 3, 'Croatia': 4, 'Montenegro': 1, 'Bangladesh': 3, 'Vatican City': 1, 'East Germany': 1, 'Afghanistan': 1, 'Georgia': 2, 'Namibia': 1, 'Zimbabwe': 2, 'Cuba': 1, 'Azerbaijan': 1, 'Mauritius': 1, 'Nicaragua': 1, 'Kazakhstan': 1, 'Armenia': 1, 'Mongolia': 1, 'Bermuda': 1, 'Ecuador': 1, 'Syria': 1, 'Kuwait': 1, 'Cyprus': 1}\n"
     ]
    }
   ],
   "source": [
    "country_list = []\n",
    "\n",
    "for entry in data_list:\n",
    "    country_names = entry['country'].split(\", \")\n",
    "    if country_names[0] == \"\":\n",
    "        continue\n",
    "    for country in country_names:\n",
    "        country_list.append(country)\n",
    "        \n",
    "production_totals = dict(Counter(country_list))\n",
    "print(production_totals)"
   ]
  },
  {
   "cell_type": "markdown",
   "metadata": {},
   "source": [
    "### Sort production_totals by descending values"
   ]
  },
  {
   "cell_type": "code",
   "execution_count": 5,
   "metadata": {},
   "outputs": [
    {
     "name": "stdout",
     "output_type": "stream",
     "text": [
      "{'United States': 2609, 'India': 838, 'United Kingdom': 601, 'Canada': 318, 'France': 271, 'Japan': 231, 'Spain': 178, 'South Korea': 162, 'Germany': 151, 'Mexico': 129, 'Australia': 126, 'China': 120, 'Hong Kong': 97, 'Turkey': 87, 'Taiwan': 75, 'Argentina': 68, 'Italy': 67, 'Belgium': 66, 'Brazil': 66, 'Thailand': 56, 'Egypt': 54, 'Indonesia': 52, 'Philippines': 47, 'Denmark': 38, 'Netherlands': 37, 'Nigeria': 36, 'Colombia': 36, 'Sweden': 33, 'Ireland': 33, 'South Africa': 30, 'Singapore': 30, 'Poland': 26, 'Israel': 26, 'Chile': 23, 'Pakistan': 23, 'New Zealand': 23, 'Norway': 21, 'United Arab Emirates': 21, 'Russia': 21, 'Malaysia': 21, 'Switzerland': 15, 'Czech Republic': 15, 'Austria': 10, 'Uruguay': 9, 'Lebanon': 9, 'Peru': 9, 'Finland': 9, 'Bulgaria': 8, 'Greece': 8, 'Luxembourg': 7, 'Morocco': 6, 'Jordan': 6, 'Iceland': 6, 'Qatar': 6, 'Romania': 6, 'Serbia': 5, 'West Germany': 5, 'Hungary': 5, 'Vietnam': 4, 'Portugal': 4, 'Iran': 4, 'Croatia': 4, 'Cambodia': 3, 'Soviet Union': 3, 'Ukraine': 3, 'Venezuela': 3, 'Slovenia': 3, 'Bangladesh': 3, 'Senegal': 2, 'Nepal': 2, 'Saudi Arabia': 2, 'Malta': 2, 'Iraq': 2, 'Ghana': 2, 'Dominican Republic': 2, 'Georgia': 2, 'Zimbabwe': 2, 'United States,': 1, 'Cayman Islands': 1, 'Poland,': 1, 'United Kingdom,': 1, 'Liechtenstein': 1, 'Albania': 1, 'Slovakia': 1, 'Samoa': 1, 'Botswana': 1, 'Guatemala': 1, 'Malawi': 1, 'Paraguay': 1, 'Somalia': 1, 'Kenya': 1, 'Sudan': 1, 'Sri Lanka': 1, 'Panama': 1, 'Latvia': 1, 'Uganda': 1, 'Montenegro': 1, 'Vatican City': 1, 'East Germany': 1, 'Afghanistan': 1, 'Namibia': 1, 'Cuba': 1, 'Azerbaijan': 1, 'Mauritius': 1, 'Nicaragua': 1, 'Kazakhstan': 1, 'Armenia': 1, 'Mongolia': 1, 'Bermuda': 1, 'Ecuador': 1, 'Syria': 1, 'Kuwait': 1, 'Cyprus': 1}\n"
     ]
    }
   ],
   "source": [
    "productions_sorted = {}\n",
    "sorted_countries = sorted(production_totals, key=production_totals.get, reverse=True)\n",
    "\n",
    "for w in sorted_countries:\n",
    "    productions_sorted[w] = production_totals[w]\n",
    "\n",
    "print(productions_sorted)"
   ]
  },
  {
   "cell_type": "markdown",
   "metadata": {},
   "source": [
    "### Narrow down results to 10 countries with highest production values, so they will all fit on graph"
   ]
  },
  {
   "cell_type": "code",
   "execution_count": 6,
   "metadata": {},
   "outputs": [
    {
     "name": "stdout",
     "output_type": "stream",
     "text": [
      "{'United States': 2609, 'India': 838, 'United Kingdom': 601, 'Canada': 318, 'France': 271, 'Japan': 231, 'Spain': 178, 'South Korea': 162, 'Germany': 151, 'Mexico': 129}\n"
     ]
    }
   ],
   "source": [
    "top10 = dict(list(productions_sorted.items())[0: 10])\n",
    "print(top10)"
   ]
  },
  {
   "cell_type": "markdown",
   "metadata": {},
   "source": [
    "## Create a graph\n",
    "Display the data we collected on a graph using matplotlib."
   ]
  },
  {
   "cell_type": "code",
   "execution_count": 7,
   "metadata": {},
   "outputs": [
    {
     "data": {
      "text/plain": [
       "<BarContainer object of 10 artists>"
      ]
     },
     "execution_count": 7,
     "metadata": {},
     "output_type": "execute_result"
    },
    {
     "data": {
      "image/png": "[encoded data removed]",
      "text/plain": [
       "<Figure size 576x360 with 1 Axes>"
      ]
     },
     "metadata": {
      "needs_background": "light"
     },
     "output_type": "display_data"
    }
   ],
   "source": [
    "plt.figure(figsize=(8, 5))\n",
    "plt.title(\"Top 10 Producers of Content on Netflix by Country\", fontsize=24, pad=20)\n",
    "plt.xlabel(\"Number of Shows and Movies Produced\", labelpad=30, fontsize=20)\n",
    "plt.ylabel(\"Country\", labelpad=10, fontsize=20)\n",
    "\n",
    "# Create x axis labels\n",
    "x = []\n",
    "for k, v in top10.items():\n",
    "    x.append(v)\n",
    "    \n",
    "# Create y axis labels\n",
    "y = []\n",
    "for k, v in top10.items():\n",
    "    y.append(k)\n",
    "\n",
    "plt.barh(y, x, color='#E50914', edgecolor='black')"
   ]
  },
  {
   "cell_type": "markdown",
   "metadata": {},
   "source": [
    "## Graph Analysis\n",
    "The US produces much more content than any other country. This is unsurprising given Netflix is an American company. However, Netflix is available internationally. This is indicative of the global popularity of American media. This may also have sociological implications such as the globalization of American culture and values. Also worth noting is that the top 4 countries are English-speaking countries. People who wish to work in the industry can increase their chances by learning English and moving to these countries."
   ]
  },
  {
   "cell_type": "markdown",
   "metadata": {},
   "source": [
    "# Create a double bar graph that shows how many TV Shows and Movies were produced by each country from the previous graph\n",
    "If the type is 'Movie' and the country is in the top 10 content producers, append the country to the movies_list.   Count the number of movies each country produced by counting the number of times the country appears in the list."
   ]
  },
  {
   "cell_type": "code",
   "execution_count": 8,
   "metadata": {},
   "outputs": [
    {
     "name": "stdout",
     "output_type": "stream",
     "text": [
      "{'United States': 1687, 'United Kingdom': 281, 'France': 98, 'India': 753, 'Canada': 130, 'South Korea': 37, 'Spain': 102, 'Mexico': 66, 'Japan': 52, 'Germany': 54}\n"
     ]
    }
   ],
   "source": [
    "movies_list = []\n",
    "\n",
    "for entry in data_list:\n",
    "    type_name = entry['type']\n",
    "    if type_name == 'Movie':\n",
    "        country_names = entry['country'].split(\", \")\n",
    "        if country_names[0] == \"\":\n",
    "            continue\n",
    "        for country in country_names:\n",
    "            if country_names[0] == 'United States':\n",
    "                movies_list.append(country)\n",
    "            if country_names[0] == 'India':\n",
    "                movies_list.append(country)\n",
    "            if country_names[0] == 'United Kingdom':\n",
    "                movies_list.append(country)\n",
    "            if country_names[0] == 'Canada':\n",
    "                movies_list.append(country)\n",
    "            if country_names[0] == 'France':\n",
    "                movies_list.append(country)\n",
    "            if country_names[0] == 'Japan':\n",
    "                movies_list.append(country)\n",
    "            if country_names[0] == 'Spain':\n",
    "                movies_list.append(country)\n",
    "            if country_names[0] == 'South Korea':\n",
    "                movies_list.append(country)\n",
    "            if country_names[0] == 'Germany':\n",
    "                movies_list.append(country)\n",
    "            if country_names[0] == 'Mexico':\n",
    "                movies_list.append(country)\n",
    "            else:\n",
    "                break\n",
    "            \n",
    "movies_produced = dict(Counter(movies_list))\n",
    "del movies_produced['Argentina']  # Argentina, Netherlands, and Finland ended up in list somehow, so we delete them here.\n",
    "del movies_produced['Netherlands']\n",
    "del movies_produced['Finland']\n",
    "print(movies_produced)"
   ]
  },
  {
   "cell_type": "markdown",
   "metadata": {},
   "source": [
    "## Same as above but for TV Shows\n",
    "If the type is 'TV Show' and country is in the top 10 content producers, append the country to the movies_list.   Count the number of shows each country produced by counting the number of times the country appears in the list."
   ]
  },
  {
   "cell_type": "code",
   "execution_count": 9,
   "metadata": {},
   "outputs": [
    {
     "name": "stdout",
     "output_type": "stream",
     "text": [
      "{'United States': 624, 'Spain': 39, 'France': 50, 'United Kingdom': 201, 'India': 55, 'Mexico': 33, 'South Korea': 109, 'Japan': 132, 'Canada': 76, 'Germany': 11}\n"
     ]
    }
   ],
   "source": [
    "shows_list = []\n",
    "\n",
    "for entry in data_list:\n",
    "    type_name = entry['type']\n",
    "    if type_name == 'TV Show':\n",
    "        country_names = entry['country'].split(\", \")\n",
    "        if country_names[0] == \"\":\n",
    "            continue\n",
    "        for country in country_names:\n",
    "            if country_names[0] == 'United States':\n",
    "                shows_list.append(country)\n",
    "            if country_names[0] == 'India':\n",
    "                shows_list.append(country)\n",
    "            if country_names[0] == 'United Kingdom':\n",
    "                shows_list.append(country)\n",
    "            if country_names[0] == 'Canada':\n",
    "                shows_list.append(country)\n",
    "            if country_names[0] == 'France':\n",
    "                shows_list.append(country)\n",
    "            if country_names[0] == 'Japan':\n",
    "                shows_list.append(country)\n",
    "            if country_names[0] == 'Spain':\n",
    "                shows_list.append(country)\n",
    "            if country_names[0] == 'South Korea':\n",
    "                shows_list.append(country)\n",
    "            if country_names[0] == 'Germany':\n",
    "                shows_list.append(country)\n",
    "            if country_names[0] == 'Mexico':\n",
    "                shows_list.append(country)\n",
    "            else:\n",
    "                break\n",
    "            \n",
    "shows_produced = dict(Counter(shows_list))\n",
    "print(shows_produced)"
   ]
  },
  {
   "cell_type": "markdown",
   "metadata": {},
   "source": [
    "## Create a graph\n",
    "Display the data we collected on a graph using matplotlib."
   ]
  },
  {
   "cell_type": "code",
   "execution_count": 10,
   "metadata": {},
   "outputs": [
    {
     "data": {
      "text/plain": [
       "<matplotlib.legend.Legend at 0x17d7bf08a60>"
      ]
     },
     "execution_count": 10,
     "metadata": {},
     "output_type": "execute_result"
    },
    {
     "data": {
      "image/png": "[encoded data removed]",
      "text/plain": [
       "<Figure size 864x576 with 1 Axes>"
      ]
     },
     "metadata": {
      "needs_background": "light"
     },
     "output_type": "display_data"
    }
   ],
   "source": [
    "labels = ['United States', 'India', 'United Kingdom', 'Canada', 'France', 'Japan', 'Spain', 'South Korea', 'Germany', 'Mexico']\n",
    "movies2 = [movies_produced['United States'], movies_produced['India'], movies_produced['United Kingdom'], movies_produced['Canada'],\n",
    "          movies_produced['France'], movies_produced['Japan'], movies_produced['Spain'], movies_produced['South Korea'], movies_produced['Germany'],\n",
    "           movies_produced['Mexico']]\n",
    "tv_shows = [shows_produced['United States'], shows_produced['India'], shows_produced['United Kingdom'], shows_produced['Canada'],\n",
    "          shows_produced['France'], shows_produced['Japan'], shows_produced['Spain'], shows_produced['South Korea'], shows_produced['Germany'],\n",
    "           shows_produced['Mexico']]\n",
    "\n",
    "y = np.arange(len(labels))  # the label locations\n",
    "\n",
    "width = .35\n",
    "fig, ax = plt.subplots(figsize=(12, 8))\n",
    "rects1 = ax.barh(y - width/2, movies2, width, label='Movies')\n",
    "rects2 = ax.barh(y + width/2, tv_shows, width, label='TV Shows')\n",
    "\n",
    "# Add some text for labels, title and custom x-axis tick labels, etc.\n",
    "ax.set_xlabel('Totals')\n",
    "ax.set_ylabel('Country')\n",
    "ax.set_title('Number of TV Shows and Movies Produced by Each Country')\n",
    "ax.set_yticks(y)\n",
    "ax.set_yticklabels(labels)\n",
    "ax.legend()"
   ]
  },
  {
   "cell_type": "markdown",
   "metadata": {},
   "source": [
    "## Graph Analysis\n",
    "Each country produces more movies than shows except for Japan and South Korea.  The US produces nearly three times more movies than shows.  India produces about 10 times more movies than shows.  The United Kingdom, Canada, and France produce only a little less shows than movies.  This indicates that production of movies tends to be more popular, as 8/10 countries produce more movies than shows.  It may be that movies are more lucrative."
   ]
  },
  {
   "cell_type": "markdown",
   "metadata": {},
   "source": [
    "# Create another graph to analyze top movie producers by country\n",
    "Take the original data_list and pull the value of key 'type' if it is a Movie, and the value of key 'country'.  Then count the number of Movies each country produced."
   ]
  },
  {
   "cell_type": "code",
   "execution_count": 11,
   "metadata": {},
   "outputs": [
    {
     "name": "stdout",
     "output_type": "stream",
     "text": [
      "{'United States': 1923, 'India': 783, 'South Korea': 46, 'China': 84, 'United Kingdom': 378, 'Bulgaria': 8, 'Spain': 133, 'Canada': 211, 'Chile': 19, 'Denmark': 29, 'Sweden': 25, 'Netherlands': 31, 'Belgium': 58, 'France': 201, 'Uruguay': 9, 'United States,': 1, 'Thailand': 38, 'Pakistan': 19, 'Turkey': 62, 'Brazil': 48, 'Italy': 52, 'Indonesia': 50, 'Ireland': 22, 'Hong Kong': 93, 'Morocco': 6, 'Mexico': 84, 'Vietnam': 4, 'Argentina': 54, 'Nigeria': 36, 'Greece': 5, 'Norway': 13, 'Switzerland': 14, 'United Arab Emirates': 20, 'Japan': 75, 'Cambodia': 3, 'Russia': 7, 'Israel': 17, 'Germany': 126, 'Australia': 76, 'Portugal': 4, 'Egypt': 45, 'Austria': 9, 'Czech Republic': 10, 'Senegal': 2, 'Soviet Union': 3, 'Peru': 9, 'Ukraine': 1, 'Malaysia': 14, 'South Africa': 25, 'Nepal': 2, 'Philippines': 46, 'Poland': 21, 'Serbia': 5, 'Colombia': 13, 'Singapore': 17, 'Luxembourg': 7, 'Cayman Islands': 1, 'New Zealand': 15, 'Venezuela': 3, 'Jordan': 5, 'Saudi Arabia': 1, 'Iceland': 5, 'Poland,': 1, 'West Germany': 3, 'Malta': 1, 'Lebanon': 2, 'Qatar': 6, 'United Kingdom,': 1, 'Iran': 4, 'Finland': 6, 'Iraq': 2, 'Liechtenstein': 1, 'Taiwan': 10, 'Albania': 1, 'Slovakia': 1, 'Samoa': 1, 'Ghana': 2, 'Botswana': 1, 'Hungary': 4, 'Guatemala': 1, 'Malawi': 1, 'Paraguay': 1, 'Somalia': 1, 'Kenya': 1, 'Sudan': 1, 'Sri Lanka': 1, 'Dominican Republic': 2, 'Panama': 1, 'Romania': 6, 'Latvia': 1, 'Uganda': 1, 'Slovenia': 3, 'Croatia': 3, 'Montenegro': 1, 'Bangladesh': 3, 'Vatican City': 1, 'East Germany': 1, 'Afghanistan': 1, 'Georgia': 2, 'Namibia': 1, 'Zimbabwe': 2, 'Nicaragua': 1, 'Kazakhstan': 1, 'Armenia': 1, 'Mongolia': 1, 'Bermuda': 1, 'Ecuador': 1}\n"
     ]
    }
   ],
   "source": [
    "movie_list = []\n",
    "for i in range(len(data_list)):\n",
    "    if data_list[i]['type'] == 'Movie':\n",
    "        movie_list.append(data_list[i])\n",
    "\n",
    "country_list2 = []\n",
    "for something in movie_list:\n",
    "    country_names = something['country'].split(\", \")\n",
    "    if country_names[0] == \"\":\n",
    "        continue\n",
    "    for country in country_names:\n",
    "        country_list2.append(country)\n",
    "        \n",
    "movie_totals = dict(Counter(country_list2))\n",
    "print(movie_totals)"
   ]
  },
  {
   "cell_type": "markdown",
   "metadata": {},
   "source": [
    "### Sort movie_totals by descending values"
   ]
  },
  {
   "cell_type": "code",
   "execution_count": 12,
   "metadata": {},
   "outputs": [
    {
     "name": "stdout",
     "output_type": "stream",
     "text": [
      "{'United States': 1923, 'India': 783, 'United Kingdom': 378, 'Canada': 211, 'France': 201, 'Spain': 133, 'Germany': 126, 'Hong Kong': 93, 'China': 84, 'Mexico': 84, 'Australia': 76, 'Japan': 75, 'Turkey': 62, 'Belgium': 58, 'Argentina': 54, 'Italy': 52, 'Indonesia': 50, 'Brazil': 48, 'South Korea': 46, 'Philippines': 46, 'Egypt': 45, 'Thailand': 38, 'Nigeria': 36, 'Netherlands': 31, 'Denmark': 29, 'Sweden': 25, 'South Africa': 25, 'Ireland': 22, 'Poland': 21, 'United Arab Emirates': 20, 'Chile': 19, 'Pakistan': 19, 'Israel': 17, 'Singapore': 17, 'New Zealand': 15, 'Switzerland': 14, 'Malaysia': 14, 'Norway': 13, 'Colombia': 13, 'Czech Republic': 10, 'Taiwan': 10, 'Uruguay': 9, 'Austria': 9, 'Peru': 9, 'Bulgaria': 8, 'Russia': 7, 'Luxembourg': 7, 'Morocco': 6, 'Qatar': 6, 'Finland': 6, 'Romania': 6, 'Greece': 5, 'Serbia': 5, 'Jordan': 5, 'Iceland': 5, 'Vietnam': 4, 'Portugal': 4, 'Iran': 4, 'Hungary': 4, 'Cambodia': 3, 'Soviet Union': 3, 'Venezuela': 3, 'West Germany': 3, 'Slovenia': 3, 'Croatia': 3, 'Bangladesh': 3, 'Senegal': 2, 'Nepal': 2, 'Lebanon': 2, 'Iraq': 2, 'Ghana': 2, 'Dominican Republic': 2, 'Georgia': 2, 'Zimbabwe': 2, 'United States,': 1, 'Ukraine': 1, 'Cayman Islands': 1, 'Saudi Arabia': 1, 'Poland,': 1, 'Malta': 1, 'United Kingdom,': 1, 'Liechtenstein': 1, 'Albania': 1, 'Slovakia': 1, 'Samoa': 1, 'Botswana': 1, 'Guatemala': 1, 'Malawi': 1, 'Paraguay': 1, 'Somalia': 1, 'Kenya': 1, 'Sudan': 1, 'Sri Lanka': 1, 'Panama': 1, 'Latvia': 1, 'Uganda': 1, 'Montenegro': 1, 'Vatican City': 1, 'East Germany': 1, 'Afghanistan': 1, 'Namibia': 1, 'Nicaragua': 1, 'Kazakhstan': 1, 'Armenia': 1, 'Mongolia': 1, 'Bermuda': 1, 'Ecuador': 1}\n"
     ]
    }
   ],
   "source": [
    "movies_sorted = {}\n",
    "sort_movies = sorted(movie_totals, key=movie_totals.get, reverse=True)\n",
    "\n",
    "for w in sort_movies:\n",
    "    movies_sorted[w] = movie_totals[w]\n",
    "\n",
    "print(movies_sorted)"
   ]
  },
  {
   "cell_type": "markdown",
   "metadata": {},
   "source": [
    "### Limit to top 10 Movie producers by country so it can fit on graph"
   ]
  },
  {
   "cell_type": "code",
   "execution_count": 13,
   "metadata": {},
   "outputs": [
    {
     "name": "stdout",
     "output_type": "stream",
     "text": [
      "{'United States': 1923, 'India': 783, 'United Kingdom': 378, 'Canada': 211, 'France': 201, 'Spain': 133, 'Germany': 126, 'Hong Kong': 93, 'China': 84, 'Mexico': 84}\n"
     ]
    }
   ],
   "source": [
    "top10_movies = dict(list(movies_sorted.items())[0: 10])\n",
    "print(top10_movies)"
   ]
  },
  {
   "cell_type": "markdown",
   "metadata": {},
   "source": [
    "## Create a graph\n",
    "Display the data we collected on a graph using matplotlib."
   ]
  },
  {
   "cell_type": "code",
   "execution_count": 14,
   "metadata": {},
   "outputs": [
    {
     "data": {
      "text/plain": [
       "<BarContainer object of 10 artists>"
      ]
     },
     "execution_count": 14,
     "metadata": {},
     "output_type": "execute_result"
    },
    {
     "data": {
      "image/png": "[encoded data removed]",
      "text/plain": [
       "<Figure size 576x360 with 1 Axes>"
      ]
     },
     "metadata": {
      "needs_background": "light"
     },
     "output_type": "display_data"
    }
   ],
   "source": [
    "plt.figure(figsize=(8, 5))\n",
    "plt.title(\"Top 10 Producers of Movies on Netflix by Country\", fontsize=24, pad=20)\n",
    "plt.xlabel(\"Number of Movies Produced\", labelpad=30, fontsize=20)\n",
    "plt.ylabel(\"Country\", labelpad=10, fontsize=20)\n",
    "\n",
    "# Create x axis labels\n",
    "x = []\n",
    "for k, v in top10_movies.items():\n",
    "    x.append(v)\n",
    "    \n",
    "# Create y axis labels\n",
    "y = []\n",
    "for k, v in top10_movies.items():\n",
    "    y.append(k)\n",
    "\n",
    "plt.barh(y, x, color='#E50914', edgecolor='black')"
   ]
  },
  {
   "cell_type": "markdown",
   "metadata": {},
   "source": [
    "## Graph Analysis\n",
    "This graph is very similar to the top 10 producers of content on Netflix.  However, this specifically totals the top 10 producers of movies.  Because of this we can see that China and Hong Kong have moved onto the list, though they are absent from the top 10 content producers list."
   ]
  },
  {
   "cell_type": "markdown",
   "metadata": {},
   "source": [
    "# Create another graph to analyze top TV show producers by country\n",
    "Take the original data_list and pull the value of key 'type' if it is a TV Show, and the value of key 'country'.  Then count the number of TV shows each country produced."
   ]
  },
  {
   "cell_type": "code",
   "execution_count": 15,
   "metadata": {},
   "outputs": [
    {
     "name": "stdout",
     "output_type": "stream",
     "text": [
      "{'United States': 686, 'Spain': 45, 'France': 70, 'United Kingdom': 223, 'India': 55, 'Mexico': 45, 'South Korea': 116, 'Japan': 156, 'Canada': 107, 'Germany': 25, 'Thailand': 18, 'Lebanon': 7, 'Poland': 5, 'China': 36, 'Taiwan': 65, 'Australia': 50, 'Russia': 14, 'Norway': 8, 'Italy': 15, 'Switzerland': 1, 'Czech Republic': 5, 'Brazil': 18, 'Argentina': 14, 'West Germany': 2, 'Turkey': 25, 'Malaysia': 7, 'Colombia': 23, 'Iceland': 1, 'Belgium': 8, 'Sweden': 8, 'Singapore': 13, 'Denmark': 9, 'Netherlands': 6, 'Hong Kong': 4, 'Ireland': 11, 'Chile': 4, 'Egypt': 9, 'Ukraine': 2, 'Jordan': 1, 'New Zealand': 8, 'Israel': 9, 'Greece': 3, 'United Arab Emirates': 1, 'South Africa': 5, 'Cuba': 1, 'Azerbaijan': 1, 'Mauritius': 1, 'Pakistan': 4, 'Finland': 3, 'Indonesia': 2, 'Philippines': 1, 'Saudi Arabia': 1, 'Syria': 1, 'Kuwait': 1, 'Malta': 1, 'Croatia': 1, 'Hungary': 1, 'Cyprus': 1, 'Austria': 1}\n"
     ]
    }
   ],
   "source": [
    "show_list = []\n",
    "for i in range(len(data_list)):\n",
    "    if data_list[i]['type'] == 'TV Show':\n",
    "        show_list.append(data_list[i])\n",
    "\n",
    "country_list3 = []\n",
    "for thing in show_list:\n",
    "    country_names = thing['country'].split(\", \")\n",
    "    if country_names[0] == \"\":\n",
    "        continue\n",
    "    for country in country_names:\n",
    "        country_list3.append(country)\n",
    "        \n",
    "show_totals = dict(Counter(country_list3))\n",
    "print(show_totals)"
   ]
  },
  {
   "cell_type": "markdown",
   "metadata": {},
   "source": [
    "### Sort show_totals by descending values"
   ]
  },
  {
   "cell_type": "code",
   "execution_count": 16,
   "metadata": {},
   "outputs": [
    {
     "name": "stdout",
     "output_type": "stream",
     "text": [
      "{'United States': 686, 'United Kingdom': 223, 'Japan': 156, 'South Korea': 116, 'Canada': 107, 'France': 70, 'Taiwan': 65, 'India': 55, 'Australia': 50, 'Spain': 45, 'Mexico': 45, 'China': 36, 'Germany': 25, 'Turkey': 25, 'Colombia': 23, 'Thailand': 18, 'Brazil': 18, 'Italy': 15, 'Russia': 14, 'Argentina': 14, 'Singapore': 13, 'Ireland': 11, 'Denmark': 9, 'Egypt': 9, 'Israel': 9, 'Norway': 8, 'Belgium': 8, 'Sweden': 8, 'New Zealand': 8, 'Lebanon': 7, 'Malaysia': 7, 'Netherlands': 6, 'Poland': 5, 'Czech Republic': 5, 'South Africa': 5, 'Hong Kong': 4, 'Chile': 4, 'Pakistan': 4, 'Greece': 3, 'Finland': 3, 'West Germany': 2, 'Ukraine': 2, 'Indonesia': 2, 'Switzerland': 1, 'Iceland': 1, 'Jordan': 1, 'United Arab Emirates': 1, 'Cuba': 1, 'Azerbaijan': 1, 'Mauritius': 1, 'Philippines': 1, 'Saudi Arabia': 1, 'Syria': 1, 'Kuwait': 1, 'Malta': 1, 'Croatia': 1, 'Hungary': 1, 'Cyprus': 1, 'Austria': 1}\n"
     ]
    }
   ],
   "source": [
    "shows_sorted = {}\n",
    "sort_shows = sorted(show_totals, key=show_totals.get, reverse=True)\n",
    "\n",
    "for w in sort_shows:\n",
    "    shows_sorted[w] = show_totals[w]\n",
    "\n",
    "print(shows_sorted)"
   ]
  },
  {
   "cell_type": "markdown",
   "metadata": {},
   "source": [
    "### Limit to top 10 TV Show producers by country so it can fit on graph"
   ]
  },
  {
   "cell_type": "code",
   "execution_count": 17,
   "metadata": {},
   "outputs": [
    {
     "name": "stdout",
     "output_type": "stream",
     "text": [
      "{'United States': 686, 'United Kingdom': 223, 'Japan': 156, 'South Korea': 116, 'Canada': 107, 'France': 70, 'Taiwan': 65, 'India': 55, 'Australia': 50, 'Spain': 45}\n"
     ]
    }
   ],
   "source": [
    "top10_shows = dict(list(shows_sorted.items())[0: 10])\n",
    "print(top10_shows)"
   ]
  },
  {
   "cell_type": "markdown",
   "metadata": {},
   "source": [
    "## Create a graph\n",
    "Display the data we collected on a graph using matplotlib."
   ]
  },
  {
   "cell_type": "code",
   "execution_count": 18,
   "metadata": {},
   "outputs": [
    {
     "data": {
      "text/plain": [
       "<BarContainer object of 10 artists>"
      ]
     },
     "execution_count": 18,
     "metadata": {},
     "output_type": "execute_result"
    },
    {
     "data": {
      "image/png": "[encoded data removed]",
      "text/plain": [
       "<Figure size 576x360 with 1 Axes>"
      ]
     },
     "metadata": {
      "needs_background": "light"
     },
     "output_type": "display_data"
    }
   ],
   "source": [
    "plt.figure(figsize=(8, 5))\n",
    "plt.title(\"Top 10 Producers of TV Shows on Netflix by Country\", fontsize=24, pad=20)\n",
    "plt.xlabel(\"Number of TV Shows Produced\", labelpad=30, fontsize=20)\n",
    "plt.ylabel(\"Country\", labelpad=10, fontsize=20)\n",
    "\n",
    "# Create x axis labels\n",
    "x = []\n",
    "for k, v in top10_shows.items():\n",
    "    x.append(v)\n",
    "    \n",
    "# Create y axis labels\n",
    "y = []\n",
    "for k, v in top10_shows.items():\n",
    "    y.append(k)\n",
    "\n",
    "plt.barh(y, x, color='#E50914', edgecolor='black')"
   ]
  },
  {
   "cell_type": "markdown",
   "metadata": {},
   "source": [
    "## Graph Analysis\n",
    "This graph is very similar to the top 10 producers of content on Netflix.  However, this specifically totals the top 10 producers of TV Shows.  Because of this we can see that Australia and Taiwan have moved onto the list, though they are absent from the top 10 content producers list.  Note too that Mexico and Germany are not in the top 10 producers of TV Shows, but they are both top 10 content producers."
   ]
  },
  {
   "cell_type": "markdown",
   "metadata": {},
   "source": [
    "# Create a bar graph which shows the most common genres on Netflix\n",
    "Format the data to display which genres appear most in the Netflix library."
   ]
  },
  {
   "cell_type": "code",
   "execution_count": 19,
   "metadata": {},
   "outputs": [
    {
     "name": "stdout",
     "output_type": "stream",
     "text": [
      "{'Children & Family Movies': 378, 'Comedies': 1113, 'Stand-Up Comedy': 281, \"Kids' TV\": 328, 'Crime TV Shows': 363, 'International TV Shows': 1001, 'Spanish-Language TV Shows': 117, 'International Movies': 1927, 'Sci-Fi & Fantasy': 193, 'Thrillers': 392, 'Docuseries': 279, 'Science & Nature TV': 67, 'Action & Adventure': 597, 'Dramas': 1623, 'Cult Movies': 55, 'Independent Movies': 552, 'Romantic Movies': 376, 'Documentaries': 668, 'Horror Movies': 262, 'Romantic TV Shows': 278, 'TV Comedies': 436, 'TV Dramas': 599, 'TV Thrillers': 44, 'TV Mysteries': 69, 'British TV Shows': 210, 'Music & Musicals': 243, 'Reality TV': 153, 'TV Action & Adventure': 126, 'Anime Features': 45, 'Teen TV Shows': 44, 'Faith & Spirituality': 47, 'Korean TV Shows': 132, 'Anime Series': 117, 'LGBTQ Movies': 60, 'TV Horror': 54, 'Movies': 56, 'Stand-Up Comedy & Talk Shows': 42, 'TV Sci-Fi & Fantasy': 68, 'Classic Movies': 84, 'Sports Movies': 157, 'TV Shows': 10, 'Classic & Cult TV': 24}\n"
     ]
    }
   ],
   "source": [
    "genre_list = []\n",
    "\n",
    "for entry in data_list:\n",
    "    genres = entry['listed_in'].split(\", \")\n",
    "    if genres == \"\":\n",
    "        continue\n",
    "    for genre in genres:\n",
    "        genre_list.append(genre)\n",
    "\n",
    "genre_totals = dict(Counter(genre_list))\n",
    "print(genre_totals)"
   ]
  },
  {
   "cell_type": "markdown",
   "metadata": {},
   "source": [
    "### Sort genre_totals by descending values"
   ]
  },
  {
   "cell_type": "code",
   "execution_count": 20,
   "metadata": {},
   "outputs": [
    {
     "name": "stdout",
     "output_type": "stream",
     "text": [
      "{'International Movies': 1927, 'Dramas': 1623, 'Comedies': 1113, 'International TV Shows': 1001, 'Documentaries': 668, 'TV Dramas': 599, 'Action & Adventure': 597, 'Independent Movies': 552, 'TV Comedies': 436, 'Thrillers': 392, 'Children & Family Movies': 378, 'Romantic Movies': 376, 'Crime TV Shows': 363, \"Kids' TV\": 328, 'Stand-Up Comedy': 281, 'Docuseries': 279, 'Romantic TV Shows': 278, 'Horror Movies': 262, 'Music & Musicals': 243, 'British TV Shows': 210, 'Sci-Fi & Fantasy': 193, 'Sports Movies': 157, 'Reality TV': 153, 'Korean TV Shows': 132, 'TV Action & Adventure': 126, 'Spanish-Language TV Shows': 117, 'Anime Series': 117, 'Classic Movies': 84, 'TV Mysteries': 69, 'TV Sci-Fi & Fantasy': 68, 'Science & Nature TV': 67, 'LGBTQ Movies': 60, 'Movies': 56, 'Cult Movies': 55, 'TV Horror': 54, 'Faith & Spirituality': 47, 'Anime Features': 45, 'TV Thrillers': 44, 'Teen TV Shows': 44, 'Stand-Up Comedy & Talk Shows': 42, 'Classic & Cult TV': 24, 'TV Shows': 10}\n"
     ]
    }
   ],
   "source": [
    "genres_sorted = {}\n",
    "sort_genres = sorted(genre_totals, key=genre_totals.get, reverse=True)\n",
    "\n",
    "for w in sort_genres:\n",
    "    genres_sorted[w] = genre_totals[w]\n",
    "\n",
    "print(genres_sorted)"
   ]
  },
  {
   "cell_type": "markdown",
   "metadata": {},
   "source": [
    "### Limit to top 15 genres to fit on graph"
   ]
  },
  {
   "cell_type": "code",
   "execution_count": 21,
   "metadata": {},
   "outputs": [
    {
     "name": "stdout",
     "output_type": "stream",
     "text": [
      "{'International Movies': 1927, 'Dramas': 1623, 'Comedies': 1113, 'International TV Shows': 1001, 'Documentaries': 668, 'TV Dramas': 599, 'Action & Adventure': 597, 'Independent Movies': 552, 'TV Comedies': 436, 'Thrillers': 392, 'Children & Family Movies': 378, 'Romantic Movies': 376, 'Crime TV Shows': 363, \"Kids' TV\": 328, 'Stand-Up Comedy': 281}\n"
     ]
    }
   ],
   "source": [
    "top_15 = dict(list(genres_sorted.items())[0: 15])\n",
    "print(top_15)"
   ]
  },
  {
   "cell_type": "markdown",
   "metadata": {},
   "source": [
    "## Create a graph\n",
    "Display the data we collected on a graph using matplotlib."
   ]
  },
  {
   "cell_type": "code",
   "execution_count": 22,
   "metadata": {},
   "outputs": [
    {
     "data": {
      "text/plain": [
       "<BarContainer object of 15 artists>"
      ]
     },
     "execution_count": 22,
     "metadata": {},
     "output_type": "execute_result"
    },
    {
     "data": {
      "image/png": "[encoded data removed]",
      "text/plain": [
       "<Figure size 720x504 with 1 Axes>"
      ]
     },
     "metadata": {
      "needs_background": "light"
     },
     "output_type": "display_data"
    }
   ],
   "source": [
    "plt.figure(figsize= (10, 7))\n",
    "plt.title(\"Most Common Genres on Netflix\", fontsize=24, pad=20)\n",
    "plt.xlabel(\"Numbers of Each Genre\", labelpad=30, fontsize=20)\n",
    "plt.ylabel(\"Genre\", labelpad=10, fontsize=20)\n",
    "\n",
    "# Create x axis labels\n",
    "x = []\n",
    "for k, v in top_15.items():\n",
    "    x.append(v)\n",
    "    \n",
    "# Create y axis labels\n",
    "y = []\n",
    "for k, v in top_15.items():\n",
    "    y.append(k)\n",
    "    \n",
    "plt.xticks(fontsize=12)\n",
    "plt.yticks(fontsize=12)\n",
    "plt.barh(y, x, color='#E50914', edgecolor='black')"
   ]
  },
  {
   "cell_type": "markdown",
   "metadata": {},
   "source": [
    "## Graph Analysis\n",
    "The top genre is International Movies.  This is a vague genre and could mean different things to different people.  It can be assumed that these are American movies in English that have been translated into many languages and are globally popular.  Dramas are the second largest category, perhaps because they create suspense in viewers.  Comedies are third, which may be because everyone likes a good laugh.  International TV shows is probably similar to International Movies.  Surprisingly documentaries are the 5th most popular.  This is good because they tend to be educational. This graph also lets us see again that movies are more numerous than TV Shows on Netflix."
   ]
  },
  {
   "cell_type": "code",
   "execution_count": null,
   "metadata": {},
   "outputs": [],
   "source": []
  }
 ],
 "metadata": {
  "kernelspec": {
   "display_name": "data_vis",
   "language": "python",
   "name": "data_vis"
  },
  "language_info": {
   "codemirror_mode": {
    "name": "ipython",
    "version": 3
   },
   "file_extension": ".py",
   "mimetype": "text/x-python",
   "name": "python",
   "nbconvert_exporter": "python",
   "pygments_lexer": "ipython3",
   "version": "3.9.1"
  }
 },
 "nbformat": 4,
 "nbformat_minor": 4
}
