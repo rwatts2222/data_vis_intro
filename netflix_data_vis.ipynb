{
 "cells": [
  {
   "cell_type": "markdown",
   "metadata": {},
   "source": [
    "# Introduction\n",
    "The data for this project is pulled from a Netflix dataset on Kaggle. Its purpose is to visualize which countries produce the most content on Netflix.\n",
    "\n",
    "## Importing the data\n",
    "Start by bringing in the CSV data into Python program. We then parse the data using the CSV package. Lastly we close the CSV file after we have read the information."
   ]
  },
  {
   "cell_type": "code",
   "execution_count": 1,
   "metadata": {},
   "outputs": [],
   "source": [
    "import matplotlib.pyplot as plt\n",
    "import csv\n",
    "from collections import Counter"
   ]
  },
  {
   "cell_type": "code",
   "execution_count": 2,
   "metadata": {},
   "outputs": [],
   "source": [
    "with open('data/netflix_titles.csv', 'r', encoding ='utf-8') as file:\n",
    "    netflix_data = csv.DictReader(file)\n",
    "    data_list = []\n",
    "\n",
    "    for row in netflix_data:\n",
    "        data_list.append(row)"
   ]
  },
  {
   "cell_type": "markdown",
   "metadata": {},
   "source": [
    "### Test to see if data is being read properly"
   ]
  },
  {
   "cell_type": "code",
   "execution_count": 3,
   "metadata": {},
   "outputs": [
    {
     "data": {
      "text/plain": [
       "{'show_id': '81145628',\n",
       " 'type': 'Movie',\n",
       " 'title': 'Norm of the North: King Sized Adventure',\n",
       " 'director': 'Richard Finn, Tim Maltby',\n",
       " 'cast': 'Alan Marriott, Andrew Toth, Brian Dobson, Cole Howard, Jennifer Cameron, Jonathan Holmes, Lee Tockar, Lisa Durupt, Maya Kay, Michael Dobson',\n",
       " 'country': 'United States, India, South Korea, China',\n",
       " 'date_added': 'September 9, 2019',\n",
       " 'release_year': '2019',\n",
       " 'rating': 'TV-PG',\n",
       " 'duration': '90 min',\n",
       " 'listed_in': 'Children & Family Movies, Comedies',\n",
       " 'description': 'Before planning an awesome wedding for his grandfather, a polar bear king must take back a stolen artifact from an evil archaeologist first.'}"
      ]
     },
     "execution_count": 3,
     "metadata": {},
     "output_type": "execute_result"
    }
   ],
   "source": [
    "data_list[0]"
   ]
  },
  {
   "cell_type": "markdown",
   "metadata": {},
   "source": [
    "## Format the data before we create a visualization\n",
    "Create a list of countries in which movies and shows were produced and count the number of productions for each country."
   ]
  },
  {
   "cell_type": "code",
   "execution_count": 4,
   "metadata": {},
   "outputs": [
    {
     "name": "stdout",
     "output_type": "stream",
     "text": [
      "{'United States': 2609, 'India': 838, 'South Korea': 162, 'China': 120, 'United Kingdom': 601, 'Spain': 178, 'Bulgaria': 8, 'Canada': 318, 'Chile': 23, 'Denmark': 38, 'Sweden': 33, 'Netherlands': 37, 'Belgium': 66, 'France': 271, 'Uruguay': 9, 'United States,': 1, 'Thailand': 56, 'Pakistan': 23, 'Turkey': 87, 'Brazil': 66, 'Italy': 67, 'Indonesia': 52, 'Ireland': 33, 'Hong Kong': 97, 'Morocco': 6, 'Mexico': 129, 'Vietnam': 4, 'Argentina': 68, 'Nigeria': 36, 'Japan': 231, 'Germany': 151, 'Greece': 8, 'Norway': 21, 'Switzerland': 15, 'United Arab Emirates': 21, 'Lebanon': 9, 'Cambodia': 3, 'Russia': 21, 'Poland': 26, 'Israel': 26, 'Australia': 126, 'Portugal': 4, 'Egypt': 54, 'Taiwan': 75, 'Austria': 10, 'Czech Republic': 15, 'Senegal': 2, 'Soviet Union': 3, 'Peru': 9, 'Ukraine': 3, 'Malaysia': 21, 'South Africa': 30, 'Nepal': 2, 'Philippines': 47, 'Serbia': 5, 'Colombia': 36, 'Singapore': 30, 'Luxembourg': 7, 'West Germany': 5, 'Cayman Islands': 1, 'New Zealand': 23, 'Venezuela': 3, 'Jordan': 6, 'Saudi Arabia': 2, 'Iceland': 6, 'Poland,': 1, 'Malta': 2, 'Qatar': 6, 'United Kingdom,': 1, 'Iran': 4, 'Finland': 9, 'Iraq': 2, 'Liechtenstein': 1, 'Albania': 1, 'Slovakia': 1, 'Samoa': 1, 'Ghana': 2, 'Botswana': 1, 'Hungary': 5, 'Guatemala': 1, 'Malawi': 1, 'Paraguay': 1, 'Somalia': 1, 'Kenya': 1, 'Sudan': 1, 'Sri Lanka': 1, 'Dominican Republic': 2, 'Panama': 1, 'Romania': 6, 'Latvia': 1, 'Uganda': 1, 'Slovenia': 3, 'Croatia': 4, 'Montenegro': 1, 'Bangladesh': 3, 'Vatican City': 1, 'East Germany': 1, 'Afghanistan': 1, 'Georgia': 2, 'Namibia': 1, 'Zimbabwe': 2, 'Cuba': 1, 'Azerbaijan': 1, 'Mauritius': 1, 'Nicaragua': 1, 'Kazakhstan': 1, 'Armenia': 1, 'Mongolia': 1, 'Bermuda': 1, 'Ecuador': 1, 'Syria': 1, 'Kuwait': 1, 'Cyprus': 1}\n"
     ]
    }
   ],
   "source": [
    "country_list = []\n",
    "\n",
    "for entry in data_list:\n",
    "    country_names = entry['country'].split(\", \")\n",
    "    if country_names[0] == \"\":\n",
    "        continue\n",
    "    for country in country_names:\n",
    "        country_list.append(country)\n",
    "        \n",
    "production_totals = dict(Counter(country_list))\n",
    "print(production_totals)"
   ]
  },
  {
   "cell_type": "markdown",
   "metadata": {},
   "source": [
    "### Sort production_totals by descending values"
   ]
  },
  {
   "cell_type": "code",
   "execution_count": 5,
   "metadata": {},
   "outputs": [
    {
     "name": "stdout",
     "output_type": "stream",
     "text": [
      "{'United States': 2609, 'India': 838, 'United Kingdom': 601, 'Canada': 318, 'France': 271, 'Japan': 231, 'Spain': 178, 'South Korea': 162, 'Germany': 151, 'Mexico': 129, 'Australia': 126, 'China': 120, 'Hong Kong': 97, 'Turkey': 87, 'Taiwan': 75, 'Argentina': 68, 'Italy': 67, 'Belgium': 66, 'Brazil': 66, 'Thailand': 56, 'Egypt': 54, 'Indonesia': 52, 'Philippines': 47, 'Denmark': 38, 'Netherlands': 37, 'Nigeria': 36, 'Colombia': 36, 'Sweden': 33, 'Ireland': 33, 'South Africa': 30, 'Singapore': 30, 'Poland': 26, 'Israel': 26, 'Chile': 23, 'Pakistan': 23, 'New Zealand': 23, 'Norway': 21, 'United Arab Emirates': 21, 'Russia': 21, 'Malaysia': 21, 'Switzerland': 15, 'Czech Republic': 15, 'Austria': 10, 'Uruguay': 9, 'Lebanon': 9, 'Peru': 9, 'Finland': 9, 'Bulgaria': 8, 'Greece': 8, 'Luxembourg': 7, 'Morocco': 6, 'Jordan': 6, 'Iceland': 6, 'Qatar': 6, 'Romania': 6, 'Serbia': 5, 'West Germany': 5, 'Hungary': 5, 'Vietnam': 4, 'Portugal': 4, 'Iran': 4, 'Croatia': 4, 'Cambodia': 3, 'Soviet Union': 3, 'Ukraine': 3, 'Venezuela': 3, 'Slovenia': 3, 'Bangladesh': 3, 'Senegal': 2, 'Nepal': 2, 'Saudi Arabia': 2, 'Malta': 2, 'Iraq': 2, 'Ghana': 2, 'Dominican Republic': 2, 'Georgia': 2, 'Zimbabwe': 2, 'United States,': 1, 'Cayman Islands': 1, 'Poland,': 1, 'United Kingdom,': 1, 'Liechtenstein': 1, 'Albania': 1, 'Slovakia': 1, 'Samoa': 1, 'Botswana': 1, 'Guatemala': 1, 'Malawi': 1, 'Paraguay': 1, 'Somalia': 1, 'Kenya': 1, 'Sudan': 1, 'Sri Lanka': 1, 'Panama': 1, 'Latvia': 1, 'Uganda': 1, 'Montenegro': 1, 'Vatican City': 1, 'East Germany': 1, 'Afghanistan': 1, 'Namibia': 1, 'Cuba': 1, 'Azerbaijan': 1, 'Mauritius': 1, 'Nicaragua': 1, 'Kazakhstan': 1, 'Armenia': 1, 'Mongolia': 1, 'Bermuda': 1, 'Ecuador': 1, 'Syria': 1, 'Kuwait': 1, 'Cyprus': 1}\n"
     ]
    }
   ],
   "source": [
    "productions_sorted = {}\n",
    "sorted_countries = sorted(production_totals, key=production_totals.get, reverse=True)\n",
    "\n",
    "for w in sorted_countries:\n",
    "    productions_sorted[w] = production_totals[w]\n",
    "\n",
    "print(productions_sorted)"
   ]
  },
  {
   "cell_type": "markdown",
   "metadata": {},
   "source": [
    "### Narrow down results to 10 countries with highest production values, so they will all fit on graph"
   ]
  },
  {
   "cell_type": "code",
   "execution_count": 6,
   "metadata": {},
   "outputs": [
    {
     "name": "stdout",
     "output_type": "stream",
     "text": [
      "{'United States': 2609, 'India': 838, 'United Kingdom': 601, 'Canada': 318, 'France': 271, 'Japan': 231, 'Spain': 178, 'South Korea': 162, 'Germany': 151, 'Mexico': 129}\n",
      "{'Mexico': 129, 'Germany': 151, 'South Korea': 162, 'Spain': 178, 'Japan': 231, 'France': 271, 'Canada': 318, 'United Kingdom': 601, 'India': 838, 'United States': 2609}\n"
     ]
    }
   ],
   "source": [
    "top10 = dict(list(productions_sorted.items())[0: 10])\n",
    "print(top10)\n",
    "\n",
    "top10r = dict(sorted(top10.items(), key=lambda item: item[1]))\n",
    "print(top10r)\n"
   ]
  },
  {
   "cell_type": "markdown",
   "metadata": {},
   "source": [
    "## Create a graph\n",
    "Display the data we collected on a graph using matplotlib."
   ]
  },
  {
   "cell_type": "code",
   "execution_count": 7,
   "metadata": {},
   "outputs": [
    {
     "data": {
      "text/plain": [
       "<BarContainer object of 10 artists>"
      ]
     },
     "execution_count": 7,
     "metadata": {},
     "output_type": "execute_result"
    },
    {
     "data": {
      "image/png": "[encoded data removed]",
      "text/plain": [
       "<Figure size 576x360 with 1 Axes>"
      ]
     },
     "metadata": {
      "needs_background": "light"
     },
     "output_type": "display_data"
    }
   ],
   "source": [
    "plt.figure(figsize=(8, 5))\n",
    "plt.title(\"Top 10 Producers of Netflix Content by Country\", fontsize=24, pad=20)\n",
    "plt.xlabel(\"Number of Shows and Movies Produced\", labelpad=30, fontsize=20)\n",
    "plt.ylabel(\"Country\", labelpad=10, fontsize=20)\n",
    "\n",
    "# Create x axis labels\n",
    "x = []\n",
    "for k, v in top10.items():\n",
    "    x.append(v)\n",
    "    \n",
    "# Create y axis labels\n",
    "y = []\n",
    "for k, v in top10.items():\n",
    "    y.append(k)\n",
    "\n",
    "plt.barh(y, x, color='#E50914', edgecolor='black')"
   ]
  },
  {
   "cell_type": "markdown",
   "metadata": {},
   "source": [
    "## Graph Analysis\n",
    "The US produces much more content than any other country. This is unsurprising given Netflix is an American company. However, Netflix is available internationally. This is indicative of the global popularity of American media. This may also have sociological implications such as the globalization of American culture and values. Also worth noting is that the top 4 countries are English-speaking countries. People who wish to work in the industry can increase their chances by learning English and moving to these countries."
   ]
  }
 ],
 "metadata": {
  "kernelspec": {
   "display_name": "data_vis",
   "language": "python",
   "name": "data_vis"
  },
  "language_info": {
   "codemirror_mode": {
    "name": "ipython",
    "version": 3
   },
   "file_extension": ".py",
   "mimetype": "text/x-python",
   "name": "python",
   "nbconvert_exporter": "python",
   "pygments_lexer": "ipython3",
   "version": "3.9.1"
  }
 },
 "nbformat": 4,
 "nbformat_minor": 4
}
